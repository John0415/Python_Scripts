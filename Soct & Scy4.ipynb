{
 "cells": [
  {
   "cell_type": "code",
   "execution_count": 79,
   "metadata": {},
   "outputs": [
    {
     "name": "stdout",
     "output_type": "stream",
     "text": [
      "['XP_013017035.1', 'XP_013017290.1', 'XP_013016228.1', 'XP_013016265.1', 'XP_013017680.1', 'XP_013018028.1', 'XP_013018821.1', 'XP_013018855.1', 'XP_013020462.1', 'XP_013020273.1', 'XP_013020281.1']\n",
      "XP_013017035.1 XP_013017035.1\n",
      "XP_013017290.1 XP_013017290.1\n",
      "XP_013016228.1 XP_013016228.1\n",
      "XP_013016265.1 XP_013016265.1\n",
      "XP_013017680.1 XP_013017680.1\n",
      "XP_013018028.1 XP_013018028.1\n",
      "XP_013018821.1 XP_013018821.1\n",
      "XP_013018855.1 XP_013018855.1\n",
      "XP_013020462.1 XP_013020462.1\n",
      "XP_013020273.1 XP_013020273.1\n",
      "XP_013020281.1 XP_013020281.1\n"
     ]
    }
   ],
   "source": [
    "file_fasta = open(\"Soct_fasta.txt\",\"r\")\n",
    "# file_compare = open(\"Soct_after_compare.txt\",\"r\")\n",
    "file_results2 = open(\"Soct_after_compare.txt\",\"a\")\n",
    "file_results3 = open(\"Soct_after_compare_seqs_ids.txt\",\"r\")\n",
    "re = open(\"Soct_after_compare_seqs.txt\",\"a\")\n",
    "\n",
    "\n",
    "seq = \"\"\n",
    "x1 = []\n",
    "y1 = []\n",
    "for line1 in file_results3:\n",
    "    words = line1.split()\n",
    "    if line1[0:5] == \"wtf25\":\n",
    "        x = words[1]\n",
    "        x1.append(x)\n",
    "print(x1)\n",
    "for line in file_fasta:\n",
    "        words1 = line.split()\n",
    "        if line[0] == \">\":\n",
    "            y = words1[1]\n",
    "#             y1.append(y)\n",
    "        else:\n",
    "\n",
    "            y1.append((y,line))\n",
    "            \n",
    "\n",
    "# for i in y1:\n",
    "#     print(i[0])\n",
    "\n",
    "for i in x1:\n",
    "    for j in y1:\n",
    "        if i == j[0]:\n",
    "            print(i,j[0])\n",
    "\n",
    "            \n",
    "            \n",
    "\n",
    "for i in x1:\n",
    "    for j in y1:\n",
    "        if i == j[0]:\n",
    "            re.write(\">wtf25\")\n",
    "            re.write(\"\\n\")\n",
    "            re.write(j[1])\n",
    "            re.write(\"\\n\")\n",
    "# #           print(i,line1[0:4])\n",
    "#             print(j[1])\n",
    "        else:\n",
    "            pass\n",
    "re.close()"
   ]
  },
  {
   "cell_type": "code",
   "execution_count": null,
   "metadata": {},
   "outputs": [],
   "source": [
    "file_fasta = open(\"Soct_fasta.txt\",\"r\")\n",
    "for line in file_fasta:\n",
    "      print(line)"
   ]
  },
  {
   "cell_type": "code",
   "execution_count": 106,
   "metadata": {},
   "outputs": [
    {
     "name": "stdout",
     "output_type": "stream",
     "text": [
      "['XP_013021320.1', 'XP_013021328.1', 'XP_013020875.1', 'XP_013021764.1', 'XP_013024162.1', 'XP_013024705.1', 'XP_013025679.1']\n",
      "XP_013021320.1 XP_013021320.1\n",
      "XP_013021328.1 XP_013021328.1\n",
      "XP_013020875.1 XP_013020875.1\n",
      "XP_013021764.1 XP_013021764.1\n",
      "XP_013024162.1 XP_013024162.1\n",
      "XP_013024705.1 XP_013024705.1\n",
      "XP_013025679.1 XP_013025679.1\n"
     ]
    }
   ],
   "source": [
    "file_fasta = open(\"Scry_fasta.txt\",\"r\")\n",
    "# file_compare = open(\"Soct_after_compare.txt\",\"r\")\n",
    "file_results2 = open(\"Soct_after_compare.txt\",\"a\")\n",
    "file_results3 = open(\"Scy4_after_compare.txt\",\"r\")\n",
    "re = open(\"Scy4_after_compare_seqs.txt\",\"a\")\n",
    "\n",
    "\n",
    "seq = \"\"\n",
    "x1 = []\n",
    "y1 = []\n",
    "for line1 in file_results3:\n",
    "    words = line1.split()\n",
    "    if line1[0:5] == \"wtf25\":\n",
    "        x = words[1]\n",
    "        x1.append(x)\n",
    "print(x1)\n",
    "for line in file_fasta:\n",
    "        words1 = line.split()\n",
    "        if line[0] == \">\":\n",
    "            y = words1[1]\n",
    "#             y1.append(y)\n",
    "        else:\n",
    "\n",
    "            y1.append((y,line))\n",
    "            \n",
    "\n",
    "# for i in y1:\n",
    "#     print(i[0])\n",
    "\n",
    "for i in x1:\n",
    "    for j in y1:\n",
    "        if i == j[0]:\n",
    "            print(i,j[0])\n",
    "\n",
    "            \n",
    "            \n",
    "\n",
    "for i in x1:\n",
    "    for j in y1:\n",
    "        if i == j[0]:\n",
    "            re.write(\">wtf25\")\n",
    "            re.write(\"\\n\")\n",
    "            re.write(j[1])\n",
    "            re.write(\"\\n\")\n",
    "# #           print(i,line1[0:4])\n",
    "#             print(j[1])\n",
    "        else:\n",
    "            pass\n",
    "re.close()"
   ]
  },
  {
   "cell_type": "code",
   "execution_count": null,
   "metadata": {},
   "outputs": [],
   "source": [
    "### DO blast against itself with specific e value in blastp"
   ]
  },
  {
   "cell_type": "code",
   "execution_count": 12,
   "metadata": {},
   "outputs": [
    {
     "ename": "IndentationError",
     "evalue": "expected an indented block (<ipython-input-12-c3963f8e7efe>, line 21)",
     "output_type": "error",
     "traceback": [
      "\u001b[1;36m  File \u001b[1;32m\"<ipython-input-12-c3963f8e7efe>\"\u001b[1;36m, line \u001b[1;32m21\u001b[0m\n\u001b[1;33m    else:\u001b[0m\n\u001b[1;37m       ^\u001b[0m\n\u001b[1;31mIndentationError\u001b[0m\u001b[1;31m:\u001b[0m expected an indented block\n"
     ]
    }
   ],
   "source": [
    "## Percent cutoff\n",
    "file_fasta = open(\"scy4_scy4_7_1.out\",\"r\")\n",
    "re = open(\"Scy4_%_identity.txt\",\"a\")\n",
    "\n",
    "# file_fasta = open(\"soct_soct_7_1.out\",\"r\")\n",
    "# re = open(\"Soct_%_identity.txt\",\"a\")\n",
    "x = []\n",
    "for line in file_fasta:\n",
    "    if line[0] == \"#\":\n",
    "        print(line)\n",
    "        re.write(line)\n",
    "    else:\n",
    "        words = line.split()\n",
    "        x = words[2]\n",
    "        c = int(float(x))\n",
    "        if (c >= 40):\n",
    "            y = str(c)\n",
    "            if y in line:\n",
    "#                 print(line)\n",
    "#                 re.write(line)\n",
    "            else:\n",
    "                pass\n",
    "re.close()\n"
   ]
  },
  {
   "cell_type": "code",
   "execution_count": 63,
   "metadata": {},
   "outputs": [
    {
     "ename": "IndentationError",
     "evalue": "expected an indented block (<ipython-input-63-d138fcae0233>, line 7)",
     "output_type": "error",
     "traceback": [
      "\u001b[1;36m  File \u001b[1;32m\"<ipython-input-63-d138fcae0233>\"\u001b[1;36m, line \u001b[1;32m7\u001b[0m\n\u001b[1;33m    else:\u001b[0m\n\u001b[1;37m       ^\u001b[0m\n\u001b[1;31mIndentationError\u001b[0m\u001b[1;31m:\u001b[0m expected an indented block\n"
     ]
    }
   ],
   "source": [
    "file = open(\"Scy4_%_identity.txt\",\"r\")\n",
    "re1= open(\"Scy4_final_merged1.txt\",\"a\")\n",
    "for line in file:\n",
    "    if line[0:3] == \"wtf\":\n",
    "#         print(line)\n",
    "#         re1.write(line)\n",
    "    else:\n",
    "        pass"
   ]
  },
  {
   "cell_type": "code",
   "execution_count": 30,
   "metadata": {},
   "outputs": [
    {
     "ename": "IndentationError",
     "evalue": "expected an indented block (<ipython-input-30-9a2dc3fdb104>, line 7)",
     "output_type": "error",
     "traceback": [
      "\u001b[1;36m  File \u001b[1;32m\"<ipython-input-30-9a2dc3fdb104>\"\u001b[1;36m, line \u001b[1;32m7\u001b[0m\n\u001b[1;33m    else:\u001b[0m\n\u001b[1;37m       ^\u001b[0m\n\u001b[1;31mIndentationError\u001b[0m\u001b[1;31m:\u001b[0m expected an indented block\n"
     ]
    }
   ],
   "source": [
    "file = open(\"Soct_%_identity.txt\",\"r\")\n",
    "re2 = open(\"Soct_final_merged1.txt\",\"a\")\n",
    "for line in file:\n",
    "    if line[0:3] == \"wtf\":\n",
    "#         print(line)\n",
    "#         re2.write(line)\n",
    "    else:\n",
    "        pass"
   ]
  },
  {
   "cell_type": "code",
   "execution_count": 62,
   "metadata": {},
   "outputs": [
    {
     "ename": "SyntaxError",
     "evalue": "unexpected EOF while parsing (<ipython-input-62-2a5d836cbe27>, line 11)",
     "output_type": "error",
     "traceback": [
      "\u001b[1;36m  File \u001b[1;32m\"<ipython-input-62-2a5d836cbe27>\"\u001b[1;36m, line \u001b[1;32m11\u001b[0m\n\u001b[1;33m    \u001b[0m\n\u001b[1;37m    ^\u001b[0m\n\u001b[1;31mSyntaxError\u001b[0m\u001b[1;31m:\u001b[0m unexpected EOF while parsing\n"
     ]
    }
   ],
   "source": [
    "data = open(\"Scy4_final_merged1.txt\",\"r\")\n",
    "data1 = open(\"Scy4_final_merged1.txt\",\"r\")\n",
    "\n",
    "for line in data:\n",
    "    words = line.split()\n",
    "    if line[0:3]== \"wtf\":\n",
    "            for line1 in data1:\n",
    "                words1 = line1.split()\n",
    "                if line[0:3]== \"wtf\" and words[1] == words1[1]:\n",
    "#                     print(line1)\n",
    "            \n"
   ]
  },
  {
   "cell_type": "code",
   "execution_count": null,
   "metadata": {},
   "outputs": [],
   "source": []
  },
  {
   "cell_type": "code",
   "execution_count": null,
   "metadata": {},
   "outputs": [],
   "source": []
  },
  {
   "cell_type": "code",
   "execution_count": null,
   "metadata": {},
   "outputs": [],
   "source": []
  },
  {
   "cell_type": "code",
   "execution_count": null,
   "metadata": {},
   "outputs": [],
   "source": []
  },
  {
   "cell_type": "code",
   "execution_count": null,
   "metadata": {},
   "outputs": [],
   "source": []
  },
  {
   "cell_type": "code",
   "execution_count": null,
   "metadata": {},
   "outputs": [],
   "source": []
  },
  {
   "cell_type": "code",
   "execution_count": null,
   "metadata": {},
   "outputs": [],
   "source": []
  },
  {
   "cell_type": "code",
   "execution_count": null,
   "metadata": {},
   "outputs": [],
   "source": []
  },
  {
   "cell_type": "code",
   "execution_count": null,
   "metadata": {},
   "outputs": [],
   "source": [
    " ## Length cutoff\n",
    "re = open(\"recent_results_length.txt\",\"a\")\n",
    "with open('recent_results.txt') as f_in:\n",
    "    lines = list(line for line in (l.strip() for l in f_in) if line)\n",
    "\n",
    "for line in lines:\n",
    "    words = line.split()\n",
    "    if line[0] == \"#\" and words[6] == \"wtf25\":\n",
    "        print(line)\n",
    "        re.write(\"\\n\")\n",
    "        re.write(line)\n",
    "        re.write(\"\\n\")\n",
    "        re.write(\"\\n\")\n",
    "    elif (int(float(words[3])) >= 245):\n",
    "        print(line, '\\n')\n",
    "        re.write(line)\n",
    "        re.write(\"\\n\")\n",
    "\n",
    "re.close()"
   ]
  }
 ],
 "metadata": {
  "kernelspec": {
   "display_name": "Python 3",
   "language": "python",
   "name": "python3"
  },
  "language_info": {
   "codemirror_mode": {
    "name": "ipython",
    "version": 3
   },
   "file_extension": ".py",
   "mimetype": "text/x-python",
   "name": "python",
   "nbconvert_exporter": "python",
   "pygments_lexer": "ipython3",
   "version": "3.7.4"
  }
 },
 "nbformat": 4,
 "nbformat_minor": 2
}
